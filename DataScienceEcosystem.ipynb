{
 "cells": [
  {
   "cell_type": "markdown",
   "id": "8a012a02-95a6-4778-ae21-5e27d33d0649",
   "metadata": {},
   "source": [
    "# Data Science Tools and Ecosystem"
   ]
  },
  {
   "cell_type": "markdown",
   "id": "a5b822d4-de98-498e-b3fb-929b8c3e7cc5",
   "metadata": {},
   "source": [
    "In this notebook, Data Science Tools and Ecosystem are summarized."
   ]
  },
  {
   "cell_type": "markdown",
   "id": "04d0b818-ca28-4781-993a-368f051ef5c7",
   "metadata": {},
   "source": [
    "Some of the popular languages that Data Scientists use are:\n",
    "1. Julia\n",
    "1. R\n",
    "1. Python"
   ]
  },
  {
   "cell_type": "markdown",
   "id": "85aa7663-54e5-4dd8-a571-0146556760ea",
   "metadata": {},
   "source": [
    "Some of the commonly used libraries used by Data Scientists include:\n",
    "1. pandas\n",
    "1. scikit-learn\n",
    "1. ggplot"
   ]
  },
  {
   "cell_type": "markdown",
   "id": "9b02f014-063b-4496-a2b5-8663eb871ee8",
   "metadata": {},
   "source": [
    "|Data Science Tools|\n",
    "|--- |\n",
    "|RStudio|\n",
    "|Jupyter Lab|\n",
    "|Vscode|"
   ]
  },
  {
   "cell_type": "markdown",
   "id": "8cf4fd63-bb46-4664-a920-3e1bc7971b10",
   "metadata": {
    "tags": []
   },
   "source": [
    "### Below are a few examples of evaluating arithmetic expressions in Python."
   ]
  },
  {
   "cell_type": "code",
   "execution_count": 2,
   "id": "fa643a12-6ec7-4514-ba2a-4a41614ffdc5",
   "metadata": {},
   "outputs": [
    {
     "data": {
      "text/plain": [
       "17"
      ]
     },
     "execution_count": 2,
     "metadata": {},
     "output_type": "execute_result"
    }
   ],
   "source": [
    "# This a simple arithmetic expression to multiply then add integers\n",
    "(3*4)+5"
   ]
  },
  {
   "cell_type": "code",
   "execution_count": 3,
   "id": "a5a5736e-a143-4642-a92f-e8f3412ebf7b",
   "metadata": {},
   "outputs": [
    {
     "data": {
      "text/plain": [
       "3.3333333333333335"
      ]
     },
     "execution_count": 3,
     "metadata": {},
     "output_type": "execute_result"
    }
   ],
   "source": [
    "# This will convert 200 minutes to hours by diving by 60\n",
    "200 / 60"
   ]
  },
  {
   "cell_type": "markdown",
   "id": "facc2692-7dce-4277-88fa-72acc42f30ce",
   "metadata": {},
   "source": [
    "**Objectives:**\n",
    "* popular languages that Data Scientists use\n",
    "* simple arithmetic expression\n",
    "* commonly use libraries"
   ]
  },
  {
   "cell_type": "markdown",
   "id": "ad040659-fc86-48a7-8615-1dabf3e5bdcc",
   "metadata": {},
   "source": [
    "## Author\n",
    "Christopher Hatch"
   ]
  }
 ],
 "metadata": {
  "kernelspec": {
   "display_name": "Python 3 (ipykernel)",
   "language": "python",
   "name": "python3"
  },
  "language_info": {
   "codemirror_mode": {
    "name": "ipython",
    "version": 3
   },
   "file_extension": ".py",
   "mimetype": "text/x-python",
   "name": "python",
   "nbconvert_exporter": "python",
   "pygments_lexer": "ipython3",
   "version": "3.10.9"
  }
 },
 "nbformat": 4,
 "nbformat_minor": 5
}
